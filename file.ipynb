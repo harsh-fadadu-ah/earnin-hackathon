{
 "cells": [
  {
   "cell_type": "code",
   "execution_count": 6,
   "id": "8daa55b5",
   "metadata": {},
   "outputs": [],
   "source": [
    "import sqlite3\n",
    "\n",
    "def fetch_data_from_databases():\n",
    "    # Connect to earnin_posts.db\n",
    "    earnin_conn = sqlite3.connect('earnin_posts.db')\n",
    "    earnin_cursor = earnin_conn.cursor()\n",
    "    earnin_cursor.execute(\"SELECT * FROM posts\")\n",
    "    earnin_data = earnin_cursor.fetchall()\n",
    "    earnin_conn.close()\n",
    "\n",
    "    # Connect to feedback.db\n",
    "    feedback_conn = sqlite3.connect('feedback.db')\n",
    "    feedback_cursor = feedback_conn.cursor()\n",
    "    feedback_cursor.execute(\"SELECT * FROM feedbacks\")\n",
    "    feedback_data = feedback_cursor.fetchall()\n",
    "    feedback_conn.close()\n",
    "\n",
    "    return earnin_data, feedback_data\n",
    "\n",
    "earnin_data, feedback_data = fetch_data_from_databases()\n",
    "\n"
   ]
  },
  {
   "cell_type": "code",
   "execution_count": 7,
   "id": "95dc801b",
   "metadata": {},
   "outputs": [
    {
     "name": "stdout",
     "output_type": "stream",
     "text": [
      "[]\n",
      "[('slack_appstore_mock_0', 'app_store', 'Mock App Store review from Slack 0 Great app, love the new features!', 'slack_user_0', '2025-10-14T04:09:18.745128+00:00', 'slack://channel?message=mock_0', 4, 'unknown', 'feature_request', 'positive', 'low', 0.2, 0, 1, '2025-10-14T04:09:18.745468+00:00', '2025-10-14T04:12:31.205581+00:00'), ('slack_appstore_mock_1', 'app_store', 'Mock App Store review from Slack 1 Great app, love the new features!', 'slack_user_1', '2025-10-14T04:09:18.745450+00:00', 'slack://channel?message=mock_1', 2, 'unknown', 'feature_request', 'positive', 'high', 0.9000000000000001, 0, 1, '2025-10-14T04:09:18.746892+00:00', '2025-10-14T04:12:31.206584+00:00'), ('slack_appstore_mock_2', 'app_store', 'Mock App Store review from Slack 2 Great app, love the new features!', 'slack_user_2', '2025-10-14T04:09:18.745453+00:00', 'slack://channel?message=mock_2', 4, 'unknown', 'feature_request', 'positive', 'low', 0.2, 0, 1, '2025-10-14T04:09:18.747805+00:00', '2025-10-14T04:12:31.208098+00:00'), ('slack_appstore_mock_3', 'app_store', 'Mock App Store review from Slack 3 Great app, love the new features!', 'slack_user_3', '2025-10-14T04:09:18.745454+00:00', 'slack://channel?message=mock_3', 2, 'unknown', 'feature_request', 'positive', 'high', 0.9000000000000001, 0, 1, '2025-10-14T04:09:18.748556+00:00', '2025-10-14T04:12:31.209745+00:00'), ('slack_appstore_mock_4', 'app_store', 'Mock App Store review from Slack 4 Great app, love the new features!', 'slack_user_4', '2025-10-14T04:09:18.745455+00:00', 'slack://channel?message=mock_4', 4, 'unknown', 'feature_request', 'positive', 'low', 0.2, 0, 1, '2025-10-14T04:09:18.749176+00:00', '2025-10-14T04:12:31.211446+00:00'), ('slack_playstore_mock_0', 'play_store', 'Mock Play Store review from Slack 0 App crashes sometimes, needs fixing.', 'slack_user_5', '2025-10-14T04:09:18.745458+00:00', 'slack://channel?message=mock_5', 2, 'unknown', 'bug', 'neutral', 'critical', 1.0, 0, 1, '2025-10-14T04:09:18.749907+00:00', '2025-10-14T04:13:38.334154+00:00'), ('slack_playstore_mock_1', 'play_store', 'Mock Play Store review from Slack 1 App crashes sometimes, needs fixing.', 'slack_user_6', '2025-10-14T04:09:18.745459+00:00', 'slack://channel?message=mock_6', 5, 'unknown', 'bug', 'neutral', 'high', 0.7, 0, 1, '2025-10-14T04:09:18.750695+00:00', '2025-10-14T04:13:38.335415+00:00'), ('slack_playstore_mock_2', 'play_store', 'Mock Play Store review from Slack 2 App crashes sometimes, needs fixing.', 'slack_user_7', '2025-10-14T04:09:18.745460+00:00', 'slack://channel?message=mock_7', 2, 'unknown', 'bug', 'neutral', 'critical', 1.0, 0, 1, '2025-10-14T04:09:18.751514+00:00', '2025-10-14T04:13:38.336178+00:00'), ('slack_playstore_mock_3', 'play_store', 'Mock Play Store review from Slack 3 App crashes sometimes, needs fixing.', 'slack_user_8', '2025-10-14T04:09:18.745462+00:00', 'slack://channel?message=mock_8', 5, 'unknown', 'bug', 'neutral', 'high', 0.7, 0, 1, '2025-10-14T04:09:18.752342+00:00', '2025-10-14T04:13:38.336956+00:00'), ('slack_playstore_mock_4', 'play_store', 'Mock Play Store review from Slack 4 App crashes sometimes, needs fixing.', 'slack_user_9', '2025-10-14T04:09:18.745462+00:00', 'slack://channel?message=mock_9', 2, 'unknown', 'bug', 'neutral', 'critical', 1.0, 0, 1, '2025-10-14T04:09:18.753082+00:00', '2025-10-14T04:13:38.342386+00:00'), ('test_real_feedback_001', 'app_store', 'Real test feedback The app works great but could use dark mode', 'test_user', '2025-10-14T09:41:58.932994', None, 4, 'unknown', 'praise', 'positive', 'low', 0.1, 0, 1, '2025-10-14T04:11:58.933006+00:00', '2025-10-14T04:13:38.346676+00:00'), ('reddit_0', 'reddit', 'Mock Reddit post about test app 0', 'redditor0', '2025-10-14T06:26:45.899077+00:00', 'https://reddit.com/r/all/post/0', None, 'unknown', None, None, None, None, 0, 0, '2025-10-14T06:26:45.899136+00:00', '2025-10-14T06:26:45.899137+00:00'), ('reddit_1', 'reddit', 'Mock Reddit post about test app 1', 'redditor1', '2025-10-14T06:26:45.899094+00:00', 'https://reddit.com/r/all/post/1', None, 'unknown', None, None, None, None, 0, 0, '2025-10-14T06:26:45.902105+00:00', '2025-10-14T06:26:45.902108+00:00'), ('reddit_2', 'reddit', 'Mock Reddit post about test app 2', 'redditor2', '2025-10-14T06:26:45.899098+00:00', 'https://reddit.com/r/all/post/2', None, 'unknown', None, None, None, None, 0, 0, '2025-10-14T06:26:45.903777+00:00', '2025-10-14T06:26:45.903778+00:00'), ('reddit_3', 'reddit', 'Mock Reddit post about test app 3', 'redditor3', '2025-10-14T06:26:45.899101+00:00', 'https://reddit.com/r/all/post/3', None, 'unknown', None, None, None, None, 0, 0, '2025-10-14T06:26:45.905143+00:00', '2025-10-14T06:26:45.905143+00:00'), ('reddit_4', 'reddit', 'Mock Reddit post about test app 4', 'redditor4', '2025-10-14T06:26:45.899113+00:00', 'https://reddit.com/r/all/post/4', None, 'unknown', None, None, None, None, 0, 0, '2025-10-14T06:26:45.906252+00:00', '2025-10-14T06:26:45.906253+00:00'), ('twitter_0', 'twitter', 'Mock tweet about test app 0', 'user0', '2025-10-14T06:26:45.907814+00:00', 'https://twitter.com/user0/status/0', None, 'unknown', None, None, None, None, 0, 0, '2025-10-14T06:26:45.907823+00:00', '2025-10-14T06:26:45.907823+00:00'), ('twitter_1', 'twitter', 'Mock tweet about test app 1', 'user1', '2025-10-14T06:26:45.907816+00:00', 'https://twitter.com/user1/status/1', None, 'unknown', None, None, None, None, 0, 0, '2025-10-14T06:26:45.908876+00:00', '2025-10-14T06:26:45.908876+00:00'), ('twitter_2', 'twitter', 'Mock tweet about test app 2', 'user2', '2025-10-14T06:26:45.907818+00:00', 'https://twitter.com/user2/status/2', None, 'unknown', None, None, None, None, 0, 0, '2025-10-14T06:26:45.909931+00:00', '2025-10-14T06:26:45.909931+00:00'), ('twitter_3', 'twitter', 'Mock tweet about test app 3', 'user3', '2025-10-14T06:26:45.907819+00:00', 'https://twitter.com/user3/status/3', None, 'unknown', None, None, None, None, 0, 0, '2025-10-14T06:26:45.911019+00:00', '2025-10-14T06:26:45.911020+00:00'), ('twitter_4', 'twitter', 'Mock tweet about test app 4', 'user4', '2025-10-14T06:26:45.907820+00:00', 'https://twitter.com/user4/status/4', None, 'unknown', None, None, None, None, 0, 0, '2025-10-14T06:26:45.912268+00:00', '2025-10-14T06:26:45.912270+00:00'), ('slack_playstore_1760349089.125449_U09L3V720S2', 'play_store', '2 new reviews averaging 3.0 stars httpsapp.appbot.coapps3075479-earnin-your-money-in-advance Your Money in Advance Google Play   by httpswww.google.comsearch?q2022I20love20my20dog2220twitter20OR20facebook20OR20linkedin20OR20email20OR204022I20love20my20dog22amputm_campaignslack-red_circle update I had to drop my rating. mainly because i just dont get how the app works and it changes way to much on me. when I first started I was given up to 300 for advance pay. the next month it dropped to 250 and the next pay period it dropped to 200... my pay hasnt changed at all, in fact I got a raise within that time and ive never been late on a payment to earnin. so the dropping in funds really gets annoying and makes u feel like ur doing something wrong when ur not. deleting app.', 'U09L3V720S2', '2025-10-13T15:21:29.125449', 'slack://channel?team=T&id=C&message=1760349089.125449', 0, 'en', 'praise', 'positive', 'high', 1.0, 0, 1, '2025-10-14T06:42:39.184733+00:00', '2025-10-14T06:42:39.184835+00:00'), ('slack_playstore_1760349065.312089_U09L3V720S2', 'play_store', '1 new review averaging 5.0 stars httpsapp.appbot.coapps3075479-earnin-your-money-in-advance Your Money in Advance Google Play   by httpswww.google.comsearch?q2022Cory20Phipps2220twitter20OR20facebook20OR20linkedin20OR20email20OR204022Cory20Phipps22amputm_campaignslack-large_green_circle Smashing! its up to You! how you want your experience to go, but mine has been Freaking Awesome! thank you, Earnin! for Always having my back! highly recommended, if you can pay your commitments on time, money wise.', 'U09L3V720S2', '2025-10-13T15:21:05.312089', 'slack://channel?team=T&id=C&message=1760349065.312089', 0, 'unknown', 'feature_request', 'positive', 'high', 1.0, 0, 1, '2025-10-14T06:42:39.186082+00:00', '2025-10-14T06:42:39.186215+00:00'), ('slack_playstore_1760415441.759309_U09L2K09AHK', 'play_store', '4 stars - Solid app with good features. Minor UI improvements needed.', 'U09L2K09AHK', '2025-10-14T09:47:21.759309', 'slack://channel?team=T&id=C&message=1760415441.759309', 4, 'unknown', 'feature_request', 'positive', 'low', 0.2, 0, 1, '2025-10-14T06:59:25.374234+00:00', '2025-10-14T06:59:25.374426+00:00'), ('slack_appstore_1760415439.059149_U09L2K09AHK', 'app_store', '1 star - Terrible experience. App doesnt work as advertised.', 'U09L2K09AHK', '2025-10-14T09:47:19.059149', 'slack://channel?team=T&id=C&message=1760415439.059149', 1, 'unknown', 'complaint', 'negative', 'critical', 1.0, 0, 1, '2025-10-14T06:59:25.376762+00:00', '2025-10-14T06:59:25.376790+00:00'), ('slack_playstore_1760415436.318689_U09L2K09AHK', 'play_store', '3 stars - Decent app but the interface could be more intuitive.', 'U09L2K09AHK', '2025-10-14T09:47:16.318689', 'slack://channel?team=T&id=C&message=1760415436.318689', 3, 'unknown', 'other', 'neutral', 'medium', 0.5, 0, 1, '2025-10-14T06:59:25.378212+00:00', '2025-10-14T06:59:25.378238+00:00'), ('slack_appstore_1760415433.462249_U09L2K09AHK', 'app_store', '4 stars - Great concept but the loading times are too slow.', 'U09L2K09AHK', '2025-10-14T09:47:13.462249', 'slack://channel?team=T&id=C&message=1760415433.462249', 4, 'unknown', 'praise', 'positive', 'low', 0.1, 0, 1, '2025-10-14T06:59:25.379549+00:00', '2025-10-14T06:59:25.379570+00:00'), ('slack_playstore_1760415430.755949_U09L2K09AHK', 'play_store', '5 stars - Perfect app! Exactly what I was looking for.', 'U09L2K09AHK', '2025-10-14T09:47:10.755949', 'slack://channel?team=T&id=C&message=1760415430.755949', 5, 'unknown', 'praise', 'positive', 'low', 0.0, 0, 1, '2025-10-14T06:59:25.381163+00:00', '2025-10-14T06:59:25.381183+00:00'), ('slack_appstore_1760415427.714609_U09L2K09AHK', 'app_store', '2 stars - Too many bugs. App freezes frequently during use.', 'U09L2K09AHK', '2025-10-14T09:47:07.714609', 'slack://channel?team=T&id=C&message=1760415427.714609', 2, 'unknown', 'bug', 'neutral', 'critical', 1.0, 0, 1, '2025-10-14T06:59:25.382859+00:00', '2025-10-14T06:59:25.382888+00:00'), ('slack_playstore_1760415424.974009_U09L2K09AHK', 'play_store', '4 stars - Love the functionality but could use dark mode support.', 'U09L2K09AHK', '2025-10-14T09:47:04.974009', 'slack://channel?team=T&id=C&message=1760415424.974009', 4, 'unknown', 'praise', 'positive', 'low', 0.1, 0, 1, '2025-10-14T06:59:25.384288+00:00', '2025-10-14T06:59:25.384338+00:00'), ('slack_appstore_1760415422.091059_U09L2K09AHK', 'app_store', '3 stars - Good app but needs better performance optimization.', 'U09L2K09AHK', '2025-10-14T09:47:02.091059', 'slack://channel?team=T&id=C&message=1760415422.091059', 3, 'unknown', 'feature_request', 'positive', 'low', 0.4, 0, 1, '2025-10-14T06:59:25.386259+00:00', '2025-10-14T06:59:25.386302+00:00'), ('slack_playstore_1760415419.361419_U09L2K09AHK', 'play_store', '1 star - App keeps crashing on startup. Very frustrating experience.', 'U09L2K09AHK', '2025-10-14T09:46:59.361419', 'slack://channel?team=T&id=C&message=1760415419.361419', 1, 'unknown', 'bug', 'neutral', 'critical', 1.0, 0, 1, '2025-10-14T06:59:25.387954+00:00', '2025-10-14T06:59:25.387976+00:00'), ('slack_appstore_1760415416.415709_U09L2K09AHK', 'app_store', '5 stars - Amazing app! The new features are incredible and the UI is beautiful.', 'U09L2K09AHK', '2025-10-14T09:46:56.415709', 'slack://channel?team=T&id=C&message=1760415416.415709', 5, 'en', 'feature_request', 'positive', 'low', 0.0, 0, 1, '2025-10-14T06:59:25.389334+00:00', '2025-10-14T06:59:25.389360+00:00'), ('slack_appstore_1760415128.899339_U09L2K09AHK', 'app_store', '4 stars - Great app! Love the new features but could use dark mode support.', 'U09L2K09AHK', '2025-10-14T09:42:08.899339', 'slack://channel?team=T&id=C&message=1760415128.899339', 4, 'unknown', 'feature_request', 'positive', 'low', 0.2, 0, 1, '2025-10-14T06:59:25.390544+00:00', '2025-10-14T06:59:25.390563+00:00'), ('slack_playstore_1760349212.323539_U09L9HV3T3N', 'play_store', 'httpsapp.appbot.coapps3075479-earnin-your-money-in-advance Your Money in Advance Google Play   by httpswww.google.comsearch?q2022Quiet20Pandemonium2220twitter20OR20facebook20OR20linkedin20OR20email20OR204022Quiet20Pandemonium22amputm_campaignslack-red_circle uodate Tiffany C. now said they blocked my card on 1001. then why do i have fraud charges? i disputed ans got my credits quickly. however they had to cancel my card because there was fraudulent charges that was fine but no access to my money via virtual card. they took back 300 of my disputed credit. saying it was earning fees. I just got my card on the 4th and I have a ton of charges from the time that I did not have access to my card how is that possible if theres no virtual card', 'U09L9HV3T3N', '2025-10-13T15:23:32.323539', 'slack://channel?team=T&id=C&message=1760349212.323539', None, 'en', 'question', 'neutral', 'low', 0.0, 0, 1, '2025-10-14T06:59:25.392041+00:00', '2025-10-14T06:59:25.392139+00:00'), ('slack_playstore_1760349162.583889_U09L9HV3T3N', 'play_store', '1 new review averaging 1.0 stars 300 AM httpsapp.appbot.coapps3075479-earnin-your-money-in-advance Your Money in Advance Google Play   by httpswww.google.comsearch?q2022IM2220twitter20OR20facebook20OR20linkedin20OR20email20OR204022IM22amputm_campaignslack-red_circle I did give it a five star until it would only let me take 100 per paycheck.', 'U09L9HV3T3N', '2025-10-13T15:22:42.583889', 'slack://channel?team=T&id=C&message=1760349162.583889', 0, 'en', 'question', 'neutral', 'high', 1.0, 0, 1, '2025-10-14T06:59:25.393146+00:00', '2025-10-14T06:59:25.393209+00:00'), ('slack_appstore_1760425233.219699_U09L2K09AHK', 'app_store', '3 stars - The app is okay but has some bugs. The login feature doesnt work properly and it crashes sometimes. However, the UI is nice and the concept is good. Please fix the login issue.', 'U09L2K09AHK', '2025-10-14T12:30:33.219699', 'slack://channel?team=T&id=C&message=1760425233.219699', 3, 'en', 'bug', 'positive', 'high', 1.0, 0, 1, '2025-10-14T07:00:35.279634+00:00', '2025-10-14T07:00:35.279815+00:00')]\n"
     ]
    }
   ],
   "source": [
    "print(earnin_data)\n",
    "print(feedback_data)"
   ]
  },
  {
   "cell_type": "code",
   "execution_count": null,
   "id": "4d812135",
   "metadata": {},
   "outputs": [],
   "source": []
  }
 ],
 "metadata": {
  "kernelspec": {
   "display_name": ".venv",
   "language": "python",
   "name": "python3"
  },
  "language_info": {
   "codemirror_mode": {
    "name": "ipython",
    "version": 3
   },
   "file_extension": ".py",
   "mimetype": "text/x-python",
   "name": "python",
   "nbconvert_exporter": "python",
   "pygments_lexer": "ipython3",
   "version": "3.11.0"
  }
 },
 "nbformat": 4,
 "nbformat_minor": 5
}
